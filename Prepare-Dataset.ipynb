{
 "cells": [
  {
   "cell_type": "markdown",
   "metadata": {
    "id": "xGt6_cb4pC4C"
   },
   "source": [
    "### Load Dataset\n"
   ]
  },
  {
   "cell_type": "code",
   "execution_count": 1,
   "metadata": {
    "id": "seXLU1Ddoqt9"
   },
   "outputs": [],
   "source": [
    "import pandas as pd\n",
    "from datasets import load_dataset\n",
    "import csv\n",
    "import json\n",
    "import os"
   ]
  },
  {
   "cell_type": "code",
   "execution_count": 2,
   "metadata": {
    "colab": {
     "base_uri": "https://localhost:8080/"
    },
    "executionInfo": {
     "elapsed": 405,
     "status": "ok",
     "timestamp": 1730557099747,
     "user": {
      "displayName": "Nuttapong Wongchai",
      "userId": "08431007192556473855"
     },
     "user_tz": -420
    },
    "id": "9dwShJjPJUQJ",
    "outputId": "c4bfe68c-65e1-46d8-9ad5-5f0e2642465f"
   },
   "outputs": [
    {
     "name": "stdout",
     "output_type": "stream",
     "text": [
      "File ./Dataset/Dataset_com_Laws_1039.json created successfully.\n"
     ]
    }
   ],
   "source": [
    "def make_json(csvFilePath, jsonFilePath):\n",
    "    with open(csvFilePath, encoding='utf-8') as csvf:\n",
    "        csvReader = csv.DictReader(csvf)\n",
    "\n",
    "        with open(jsonFilePath, 'w', encoding='utf-8') as jsonlf:\n",
    "            for rows in csvReader:\n",
    "                jsonlf.write(json.dumps(rows) + '\\n')\n",
    "\n",
    "    if os.path.exists(jsonFilePath):\n",
    "        print(f\"File {jsonFilePath} created successfully.\")\n",
    "    else:\n",
    "        print(f\"Failed to create {jsonFilePath}.\")\n",
    "\n",
    "csvFilePath = './Dataset/Dataset_com_Laws_1039.csv'\n",
    "jsonFilePath = './Dataset/Dataset_com_Laws_1039.json'\n",
    "\n",
    "make_json(csvFilePath, jsonFilePath)\n"
   ]
  },
  {
   "cell_type": "code",
   "execution_count": 4,
   "metadata": {
    "colab": {
     "base_uri": "https://localhost:8080/",
     "height": 424
    },
    "executionInfo": {
     "elapsed": 9,
     "status": "ok",
     "timestamp": 1730557269391,
     "user": {
      "displayName": "Nuttapong Wongchai",
      "userId": "08431007192556473855"
     },
     "user_tz": -420
    },
    "id": "J8opkJAyHWG7",
    "outputId": "9d93e705-f821-4f70-9b97-4a96263fece1"
   },
   "outputs": [
    {
     "data": {
      "text/html": [
       "<div>\n",
       "<style scoped>\n",
       "    .dataframe tbody tr th:only-of-type {\n",
       "        vertical-align: middle;\n",
       "    }\n",
       "\n",
       "    .dataframe tbody tr th {\n",
       "        vertical-align: top;\n",
       "    }\n",
       "\n",
       "    .dataframe thead th {\n",
       "        text-align: right;\n",
       "    }\n",
       "</style>\n",
       "<table border=\"1\" class=\"dataframe\">\n",
       "  <thead>\n",
       "    <tr style=\"text-align: right;\">\n",
       "      <th></th>\n",
       "      <th>instruction</th>\n",
       "      <th>input</th>\n",
       "      <th>output</th>\n",
       "    </tr>\n",
       "  </thead>\n",
       "  <tbody>\n",
       "    <tr>\n",
       "      <th>0</th>\n",
       "      <td>ช่วยพิจารณาสถานการณ์</td>\n",
       "      <td>นายเอเป็นพนักงานในบริษัทเอกชนแห่งหนึ่ง แต่ไม่ไ...</td>\n",
       "      <td>มาตรา 5 ผู้ใดเข้าถึงโดยมิชอบซึ่งระบบคอมพิวเตอร...</td>\n",
       "    </tr>\n",
       "    <tr>\n",
       "      <th>1</th>\n",
       "      <td>ข้อมูลใดบ้างที่หากได้มาโดยมิชอบ จะถือว่ามีความ...</td>\n",
       "      <td>มีคนแอบเข้าถึงระบบคอมพิวเตอร์ที่มีข้อมูลส่วนตั...</td>\n",
       "      <td>มาตรา 6 ผู้ใดล่วงรู้มาตรการป้องกันการเข้าถึงระ...</td>\n",
       "    </tr>\n",
       "    <tr>\n",
       "      <th>2</th>\n",
       "      <td>อธิบายหน่อยว่าผิดในมาตราที่เท่าไหร่ข้อมูลใดบ้า...</td>\n",
       "      <td>เผยแพร่ข้อมูลที่ได้มาโดยไม่ได้รับอนุญาต เช่น น...</td>\n",
       "      <td>มาตรา 6 ผู้ใดล่วงรู้มาตรการป้องกันการเข้าถึงระ...</td>\n",
       "    </tr>\n",
       "    <tr>\n",
       "      <th>3</th>\n",
       "      <td>ช่วยให้คำอธิบายว่าผู้กระทำความผิดในมาตรา 7 แตก...</td>\n",
       "      <td>แอบเจาะระบบขององค์กรที่มีการป้องกันด้วยรหัสผ่า...</td>\n",
       "      <td>มาตรา 7 ระบุถึงการเข้าถึงข้อมูลที่มีมาตรการป้อ...</td>\n",
       "    </tr>\n",
       "    <tr>\n",
       "      <th>4</th>\n",
       "      <td>ช่วยให้คำอธิบายว่าผู้กระทำความผิดในมาตรา 7 แตก...</td>\n",
       "      <td>ใช้โปรแกรมหรือเทคนิคแฮ็ก (เช่น การดักจับข้อมูล...</td>\n",
       "      <td>มาตรา 7 ระบุถึงการเข้าถึงข้อมูลที่มีมาตรการป้อ...</td>\n",
       "    </tr>\n",
       "    <tr>\n",
       "      <th>...</th>\n",
       "      <td>...</td>\n",
       "      <td>...</td>\n",
       "      <td>...</td>\n",
       "    </tr>\n",
       "    <tr>\n",
       "      <th>1033</th>\n",
       "      <td>อธิบายมาตรา 14 อนุมาตรา 4</td>\n",
       "      <td>NaN</td>\n",
       "      <td>ถือว่ามีความผิด พ.ร.บ. คอมพิวเตอร์ ตาม มาตรา 1...</td>\n",
       "    </tr>\n",
       "    <tr>\n",
       "      <th>1034</th>\n",
       "      <td>อธิบายมาตรา 14 อนุมาตรา 5</td>\n",
       "      <td>NaN</td>\n",
       "      <td>ถือว่ามีความผิด พ.ร.บ. คอมพิวเตอร์ ตาม มาตรา 1...</td>\n",
       "    </tr>\n",
       "    <tr>\n",
       "      <th>1035</th>\n",
       "      <td>อธิบายมาตรา 15</td>\n",
       "      <td>NaN</td>\n",
       "      <td>ถือว่ามีความผิด พ.ร.บ. คอมพิวเตอร์ ตาม มาตรา 1...</td>\n",
       "    </tr>\n",
       "    <tr>\n",
       "      <th>1036</th>\n",
       "      <td>อธิบายมาตรา 16</td>\n",
       "      <td>NaN</td>\n",
       "      <td>ถือว่ามีความผิด พ.ร.บ. คอมพิวเตอร์ ตาม มาตรา 1...</td>\n",
       "    </tr>\n",
       "    <tr>\n",
       "      <th>1037</th>\n",
       "      <td>อธิบายมาตรา 16 วรรค 1</td>\n",
       "      <td>NaN</td>\n",
       "      <td>ถือว่ามีความผิด พ.ร.บ. คอมพิวเตอร์ ตาม มาตรา 1...</td>\n",
       "    </tr>\n",
       "  </tbody>\n",
       "</table>\n",
       "<p>1038 rows × 3 columns</p>\n",
       "</div>"
      ],
      "text/plain": [
       "                                            instruction  \\\n",
       "0                                  ช่วยพิจารณาสถานการณ์   \n",
       "1     ข้อมูลใดบ้างที่หากได้มาโดยมิชอบ จะถือว่ามีความ...   \n",
       "2     อธิบายหน่อยว่าผิดในมาตราที่เท่าไหร่ข้อมูลใดบ้า...   \n",
       "3     ช่วยให้คำอธิบายว่าผู้กระทำความผิดในมาตรา 7 แตก...   \n",
       "4     ช่วยให้คำอธิบายว่าผู้กระทำความผิดในมาตรา 7 แตก...   \n",
       "...                                                 ...   \n",
       "1033                          อธิบายมาตรา 14 อนุมาตรา 4   \n",
       "1034                          อธิบายมาตรา 14 อนุมาตรา 5   \n",
       "1035                                     อธิบายมาตรา 15   \n",
       "1036                                     อธิบายมาตรา 16   \n",
       "1037                              อธิบายมาตรา 16 วรรค 1   \n",
       "\n",
       "                                                  input  \\\n",
       "0     นายเอเป็นพนักงานในบริษัทเอกชนแห่งหนึ่ง แต่ไม่ไ...   \n",
       "1     มีคนแอบเข้าถึงระบบคอมพิวเตอร์ที่มีข้อมูลส่วนตั...   \n",
       "2     เผยแพร่ข้อมูลที่ได้มาโดยไม่ได้รับอนุญาต เช่น น...   \n",
       "3     แอบเจาะระบบขององค์กรที่มีการป้องกันด้วยรหัสผ่า...   \n",
       "4     ใช้โปรแกรมหรือเทคนิคแฮ็ก (เช่น การดักจับข้อมูล...   \n",
       "...                                                 ...   \n",
       "1033                                                NaN   \n",
       "1034                                                NaN   \n",
       "1035                                                NaN   \n",
       "1036                                                NaN   \n",
       "1037                                                NaN   \n",
       "\n",
       "                                                 output  \n",
       "0     มาตรา 5 ผู้ใดเข้าถึงโดยมิชอบซึ่งระบบคอมพิวเตอร...  \n",
       "1     มาตรา 6 ผู้ใดล่วงรู้มาตรการป้องกันการเข้าถึงระ...  \n",
       "2     มาตรา 6 ผู้ใดล่วงรู้มาตรการป้องกันการเข้าถึงระ...  \n",
       "3     มาตรา 7 ระบุถึงการเข้าถึงข้อมูลที่มีมาตรการป้อ...  \n",
       "4     มาตรา 7 ระบุถึงการเข้าถึงข้อมูลที่มีมาตรการป้อ...  \n",
       "...                                                 ...  \n",
       "1033  ถือว่ามีความผิด พ.ร.บ. คอมพิวเตอร์ ตาม มาตรา 1...  \n",
       "1034  ถือว่ามีความผิด พ.ร.บ. คอมพิวเตอร์ ตาม มาตรา 1...  \n",
       "1035  ถือว่ามีความผิด พ.ร.บ. คอมพิวเตอร์ ตาม มาตรา 1...  \n",
       "1036  ถือว่ามีความผิด พ.ร.บ. คอมพิวเตอร์ ตาม มาตรา 1...  \n",
       "1037  ถือว่ามีความผิด พ.ร.บ. คอมพิวเตอร์ ตาม มาตรา 1...  \n",
       "\n",
       "[1038 rows x 3 columns]"
      ]
     },
     "execution_count": 4,
     "metadata": {},
     "output_type": "execute_result"
    }
   ],
   "source": [
    "df = pd.read_csv(\"./Dataset/Dataset_com_Laws_1039.csv\")\n",
    "df"
   ]
  },
  {
   "cell_type": "code",
   "execution_count": 5,
   "metadata": {
    "colab": {
     "base_uri": "https://localhost:8080/"
    },
    "executionInfo": {
     "elapsed": 401,
     "status": "ok",
     "timestamp": 1730557271707,
     "user": {
      "displayName": "Nuttapong Wongchai",
      "userId": "08431007192556473855"
     },
     "user_tz": -420
    },
    "id": "CdVQYSV4QApw",
    "outputId": "97be8561-b88c-4839-c31e-4080a9456797"
   },
   "outputs": [
    {
     "data": {
      "text/plain": [
       "(1038, 3)"
      ]
     },
     "execution_count": 5,
     "metadata": {},
     "output_type": "execute_result"
    }
   ],
   "source": [
    "df.shape"
   ]
  },
  {
   "cell_type": "code",
   "execution_count": 6,
   "metadata": {
    "colab": {
     "base_uri": "https://localhost:8080/"
    },
    "executionInfo": {
     "elapsed": 4,
     "status": "ok",
     "timestamp": 1730557273070,
     "user": {
      "displayName": "Nuttapong Wongchai",
      "userId": "08431007192556473855"
     },
     "user_tz": -420
    },
    "id": "AsHoGSsUtauQ",
    "outputId": "d233403f-98d0-4cf6-e8fa-5ebed9e82262"
   },
   "outputs": [
    {
     "name": "stdout",
     "output_type": "stream",
     "text": [
      "<class 'pandas.core.frame.DataFrame'>\n",
      "RangeIndex: 1038 entries, 0 to 1037\n",
      "Data columns (total 3 columns):\n",
      " #   Column       Non-Null Count  Dtype \n",
      "---  ------       --------------  ----- \n",
      " 0   instruction  930 non-null    object\n",
      " 1   input        1020 non-null   object\n",
      " 2   output       1035 non-null   object\n",
      "dtypes: object(3)\n",
      "memory usage: 24.5+ KB\n"
     ]
    }
   ],
   "source": [
    "df.info()"
   ]
  }
 ],
 "metadata": {
  "colab": {
   "authorship_tag": "ABX9TyNFVTm6Yfl/HrHgSY1iPlkw",
   "provenance": []
  },
  "kernelspec": {
   "display_name": "base",
   "language": "python",
   "name": "python3"
  },
  "language_info": {
   "codemirror_mode": {
    "name": "ipython",
    "version": 3
   },
   "file_extension": ".py",
   "mimetype": "text/x-python",
   "name": "python",
   "nbconvert_exporter": "python",
   "pygments_lexer": "ipython3",
   "version": "3.12.4"
  }
 },
 "nbformat": 4,
 "nbformat_minor": 0
}
